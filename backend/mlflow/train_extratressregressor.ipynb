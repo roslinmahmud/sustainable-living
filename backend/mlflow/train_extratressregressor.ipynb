{
 "cells": [
  {
   "cell_type": "code",
   "execution_count": null,
   "metadata": {
    "vscode": {
     "languageId": "plaintext"
    }
   },
   "outputs": [],
   "source": [
    "import pandas as pd\n",
    "import mlflow\n",
    "import mlflow.sklearn\n",
    "from sklearn.model_selection import train_test_split\n",
    "from sklearn.ensemble import RandomForestRegressor, ExtraTreesRegressor\n",
    "from sklearn.metrics import mean_absolute_error, mean_squared_error, r2_score\n",
    "\n",
    "# Load dataset\n",
    "df = pd.read_excel(\"ENB2012_data.xlsx\")\n",
    "\n",
    "# Define features and targets\n",
    "X = df.drop(columns=['Y1', 'Y2'])  # First 8 columns as features\n",
    "y = df[['Y1', 'Y2']]  # Last 2 columns as targets (Y1: Heating, Y2: Cooling)\n",
    "# Split dataset\n",
    "X_train, X_test, y_train, y_test = train_test_split(X, y, test_size=0.2, random_state=42)\n",
    "\n",
    "# Initialize and train Extra Trees model\n",
    "et = ExtraTreesRegressor(n_estimators=100, random_state=42)\n",
    "et.fit(X_train, y_train)\n",
    "\n",
    "# Make predictions\n",
    "y_pred_et = et.predict(X_test)\n",
    "\n",
    "# Evaluate performance for both Y1 (Heating) and Y2 (Cooling)\n",
    "mae_y1_et = mean_absolute_error(y_test.iloc[:, 0], y_pred_et[:, 0])\n",
    "mse_y1_et = mean_squared_error(y_test.iloc[:, 0], y_pred_et[:, 0])\n",
    "r2_y1_et = r2_score(y_test.iloc[:, 0], y_pred_et[:, 0])\n",
    "\n",
    "mae_y2_et = mean_absolute_error(y_test.iloc[:, 1], y_pred_et[:, 1])\n",
    "mse_y2_et = mean_squared_error(y_test.iloc[:, 1], y_pred_et[:, 1])\n",
    "r2_y2_et = r2_score(y_test.iloc[:, 1], y_pred_et[:, 1])\n",
    "\n",
    "# Print results\n",
    "print(\"Extra Trees Regressor Results:\")\n",
    "print(f\"Heating Load (Y1) - MAE: {mae_y1_et}, MSE: {mse_y1_et}, R2: {r2_y1_et}\")\n",
    "print(f\"Cooling Load (Y2) - MAE: {mae_y2_et}, MSE: {mse_y2_et}, R2: {r2_y2_et}\")\n"
   ]
  }
 ],
 "metadata": {
  "language_info": {
   "name": "python"
  }
 },
 "nbformat": 4,
 "nbformat_minor": 2
}

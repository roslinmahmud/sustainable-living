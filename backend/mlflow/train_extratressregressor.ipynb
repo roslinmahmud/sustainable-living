{
 "cells": [
  {
   "cell_type": "code",
   "execution_count": null,
   "metadata": {},
   "outputs": [
    {
     "name": "stdout",
     "output_type": "stream",
     "text": [
      "Extra Trees Regressor Results:\n",
      "Heating Load (Y1) - MAE: 0.3182194805194782, MSE: 0.22264637246753047, R2: 0.9978639429520859\n",
      "Cooling Load (Y2) - MAE: 1.0552051948051961, MSE: 3.0246927557142875, R2: 0.9673561088338604\n"
     ]
    }
   ],
   "source": [
    "import pandas as pd\n",
    "import mlflow\n",
    "import mlflow.sklearn\n",
    "from sklearn.model_selection import train_test_split\n",
    "from sklearn.ensemble import ExtraTreesRegressor\n",
    "from sklearn.metrics import mean_absolute_error, mean_squared_error, r2_score\n",
    "\n",
    "# Load dataset\n",
    "df = pd.read_excel(\"../data/ENB2012_data.xlsx\")\n",
    "\n",
    "# Define features and targets\n",
    "X = df.drop(columns=['Y1', 'Y2'])  # First 8 columns as features\n",
    "y = df[['Y1', 'Y2']]  # Last 2 columns as targets (Y1: Heating, Y2: Cooling)\n",
    "# Split dataset\n",
    "X_train, X_test, y_train, y_test = train_test_split(X, y, test_size=0.2, random_state=42)\n",
    "\n",
    "# Initialize and train Extra Trees model\n",
    "et = ExtraTreesRegressor(n_estimators=100, random_state=42)\n",
    "et.fit(X_train, y_train)\n",
    "\n",
    "# Make predictions\n",
    "y_pred_et = et.predict(X_test)\n",
    "\n",
    "# Evaluate performance for both Y1 (Heating) and Y2 (Cooling)\n",
    "mae_y1_et = mean_absolute_error(y_test.iloc[:, 0], y_pred_et[:, 0])\n",
    "mse_y1_et = mean_squared_error(y_test.iloc[:, 0], y_pred_et[:, 0])\n",
    "r2_y1_et = r2_score(y_test.iloc[:, 0], y_pred_et[:, 0])\n",
    "\n",
    "mae_y2_et = mean_absolute_error(y_test.iloc[:, 1], y_pred_et[:, 1])\n",
    "mse_y2_et = mean_squared_error(y_test.iloc[:, 1], y_pred_et[:, 1])\n",
    "r2_y2_et = r2_score(y_test.iloc[:, 1], y_pred_et[:, 1])\n",
    "\n",
    "# Print results\n",
    "print(\"Extra Trees Regressor Results:\")\n",
    "print(f\"Heating Load (Y1) - MAE: {mae_y1_et}, MSE: {mse_y1_et}, R2: {r2_y1_et}\")\n",
    "print(f\"Cooling Load (Y2) - MAE: {mae_y2_et}, MSE: {mse_y2_et}, R2: {r2_y2_et}\")\n"
   ]
  },
  {
   "cell_type": "code",
   "execution_count": 4,
   "metadata": {},
   "outputs": [
    {
     "data": {
      "text/plain": [
       "<Experiment: artifact_location='/home/roslin/Projects/Sustainability/Sustainable-Living/backend/mlflow/mlruns/1', creation_time=1741035075590, experiment_id='1', last_update_time=1741035075590, lifecycle_stage='active', name='Energy_Efficiency_Prediction', tags={}>"
      ]
     },
     "execution_count": 4,
     "metadata": {},
     "output_type": "execute_result"
    }
   ],
   "source": [
    "# Set MLflow Tracking URI \n",
    "mlflow.set_tracking_uri(\"http://127.0.0.1:5000\")  # Localhost MLflow server\n",
    "\n",
    "# Create or set experiment\n",
    "experiment_name = \"Energy_Efficiency_Prediction\"\n",
    "mlflow.set_experiment(experiment_name)"
   ]
  },
  {
   "cell_type": "code",
   "execution_count": 5,
   "metadata": {},
   "outputs": [
    {
     "name": "stderr",
     "output_type": "stream",
     "text": [
      "\u001b[31m2025/03/06 10:39:13 WARNING mlflow.models.model: Model logged without a signature and input example. Please set `input_example` parameter when logging the model to auto infer the model signature.\u001b[0m\n"
     ]
    },
    {
     "name": "stdout",
     "output_type": "stream",
     "text": [
      "🏃 View run rogue-turtle-86 at: http://127.0.0.1:5000/#/experiments/1/runs/d77b8f1228e54705b19d281d96e50ee2\n",
      "🧪 View experiment at: http://127.0.0.1:5000/#/experiments/1\n"
     ]
    }
   ],
   "source": [
    "# Log experiment in MLflow\n",
    "with mlflow.start_run():\n",
    "    mlflow.log_param(\"n_estimators\", 100)\n",
    "    mlflow.log_metric(\"MAE_Y1\", mae_y1_et)\n",
    "    mlflow.log_metric(\"MSE_Y1\", mse_y1_et)\n",
    "    mlflow.log_metric(\"R2_Y1\", r2_y1_et)\n",
    "    mlflow.log_metric(\"MAE_Y2\", mae_y2_et)\n",
    "    mlflow.log_metric(\"MSE_Y2\", mse_y2_et)\n",
    "    mlflow.log_metric(\"R2_Y2\", r2_y2_et)\n",
    "    mlflow.sklearn.log_model(et, \"Extra_TreesRegressor_model\")"
   ]
  }
 ],
 "metadata": {
  "kernelspec": {
   "display_name": ".venv",
   "language": "python",
   "name": "python3"
  },
  "language_info": {
   "codemirror_mode": {
    "name": "ipython",
    "version": 3
   },
   "file_extension": ".py",
   "mimetype": "text/x-python",
   "name": "python",
   "nbconvert_exporter": "python",
   "pygments_lexer": "ipython3",
   "version": "3.12.3"
  }
 },
 "nbformat": 4,
 "nbformat_minor": 2
}

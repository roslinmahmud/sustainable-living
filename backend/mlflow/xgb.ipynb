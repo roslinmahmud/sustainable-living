{
 "cells": [
  {
   "cell_type": "code",
   "execution_count": null,
   "metadata": {},
   "outputs": [
    {
     "name": "stdout",
     "output_type": "stream",
     "text": [
      "XGBoost Regressor Results:\n",
      "Heating Load (Y1) - MAE: 0.26015774352829174, MSE: 0.16348012315575197, R2: 0.9984315806927794\n",
      "Cooling Load (Y2) - MAE: 0.5237115686590023, MSE: 0.7954066867255357, R2: 0.9914156010506407\n",
      "Training Time: 0.32 seconds\n"
     ]
    }
   ],
   "source": [
    "import pandas as pd\n",
    "import mlflow\n",
    "import mlflow.sklearn\n",
    "import xgboost as xgb\n",
    "from sklearn.model_selection import train_test_split\n",
    "from sklearn.metrics import mean_absolute_error, mean_squared_error, r2_score\n",
    "import time\n",
    "\n",
    "# Load dataset\n",
    "df = pd.read_excel(\"ENB2012_data.xlsx\")\n",
    "\n",
    "# Define features and targets\n",
    "X = df.drop(columns=['Y1', 'Y2'])  \n",
    "y = df[['Y1', 'Y2']]\n",
    "\n",
    "# Split dataset\n",
    "X_train, X_test, y_train, y_test = train_test_split(X, y, test_size=0.2, random_state=42)\n",
    "\n",
    "# Initialize XGBoost model\n",
    "xgb_model = xgb.XGBRegressor(objective='reg:squarederror', n_estimators=200, learning_rate=0.1, random_state=42)\n",
    "\n",
    "# Train the model once and measure training time\n",
    "start_time = time.time()\n",
    "xgb_model.fit(X_train, y_train)\n",
    "training_time = time.time() - start_time\n",
    "\n",
    "# Make predictions using the trained model\n",
    "y_pred_xgb = xgb_model.predict(X_test)\n",
    "\n",
    "# Evaluate performance for both Y1 (Heating) and Y2 (Cooling)\n",
    "mae_y1_xgb = mean_absolute_error(y_test.iloc[:, 0], y_pred_xgb[:, 0])\n",
    "mse_y1_xgb = mean_squared_error(y_test.iloc[:, 0], y_pred_xgb[:, 0])\n",
    "r2_y1_xgb = r2_score(y_test.iloc[:, 0], y_pred_xgb[:, 0])\n",
    "\n",
    "mae_y2_xgb = mean_absolute_error(y_test.iloc[:, 1], y_pred_xgb[:, 1])\n",
    "mse_y2_xgb = mean_squared_error(y_test.iloc[:, 1], y_pred_xgb[:, 1])\n",
    "r2_y2_xgb = r2_score(y_test.iloc[:, 1], y_pred_xgb[:, 1])\n",
    "\n",
    "# Print results\n",
    "print(\"XGBoost Regressor Results:\")\n",
    "print(f\"Heating Load (Y1) - MAE: {mae_y1_xgb}, MSE: {mse_y1_xgb}, R2: {r2_y1_xgb}\")\n",
    "print(f\"Cooling Load (Y2) - MAE: {mae_y2_xgb}, MSE: {mse_y2_xgb}, R2: {r2_y2_xgb}\")\n",
    "print(f\"Training Time: {training_time:.2f} seconds\")"
   ]
  }
 ],
 "metadata": {
  "kernelspec": {
   "display_name": "Python 3",
   "language": "python",
   "name": "python3"
  },
  "language_info": {
   "codemirror_mode": {
    "name": "ipython",
    "version": 3
   },
   "file_extension": ".py",
   "mimetype": "text/x-python",
   "name": "python",
   "nbconvert_exporter": "python",
   "pygments_lexer": "ipython3",
   "version": "3.9.6"
  }
 },
 "nbformat": 4,
 "nbformat_minor": 2
}

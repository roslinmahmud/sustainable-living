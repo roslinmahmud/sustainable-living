{
 "cells": [
  {
   "cell_type": "code",
   "execution_count": 2,
   "metadata": {},
   "outputs": [],
   "source": [
    "import pandas as pd\n",
    "import mlflow\n",
    "import mlflow.sklearn\n",
    "import xgboost as xgb\n",
    "from sklearn.model_selection import train_test_split\n",
    "from sklearn.metrics import mean_absolute_error, mean_squared_error, r2_score\n",
    "import time"
   ]
  },
  {
   "cell_type": "code",
   "execution_count": 4,
   "metadata": {},
   "outputs": [
    {
     "name": "stdout",
     "output_type": "stream",
     "text": [
      "XGBoost Regressor Results:\n",
      "Heating Load (Y1) - MAE: 0.26015774352829174, MSE: 0.16348012315575197, R2: 0.9984315806927794\n",
      "Cooling Load (Y2) - MAE: 0.5237115686590023, MSE: 0.7954066867255357, R2: 0.9914156010506407\n",
      "Training Time: 0.25 seconds\n"
     ]
    }
   ],
   "source": [
    "# Load dataset\n",
    "df = pd.read_excel(\"../data/ENB2012_data.xlsx\")\n",
    "\n",
    "# Define features and targets\n",
    "X = df.drop(columns=['Y1', 'Y2'])  \n",
    "y = df[['Y1', 'Y2']]  \n",
    "# Split dataset\n",
    "X_train, X_test, y_train, y_test = train_test_split(X, y, test_size=0.2, random_state=42)\n",
    "\n",
    "# Initialize and train XGBoost model\n",
    "xgb_model = xgb.XGBRegressor(objective='reg:squarederror', n_estimators=200, learning_rate=0.1, random_state=42)\n",
    "xgb_model.fit(X_train, y_train)\n",
    "\n",
    "# Make predictions\n",
    "y_pred_xgb = xgb_model.predict(X_test)\n",
    "\n",
    "start_time = time.time()  # Start timer\n",
    "xgb_model.fit(X_train, y_train)  # Train the model\n",
    "end_time = time.time()  # End timer\n",
    "training_time = end_time - start_time\n",
    "\n",
    "# Evaluate performance for both Y1 (Heating) and Y2 (Cooling)\n",
    "mae_y1_xgb = mean_absolute_error(y_test.iloc[:, 0], y_pred_xgb[:, 0])\n",
    "mse_y1_xgb = mean_squared_error(y_test.iloc[:, 0], y_pred_xgb[:, 0])\n",
    "r2_y1_xgb = r2_score(y_test.iloc[:, 0], y_pred_xgb[:, 0])\n",
    "\n",
    "mae_y2_xgb = mean_absolute_error(y_test.iloc[:, 1], y_pred_xgb[:, 1])\n",
    "mse_y2_xgb = mean_squared_error(y_test.iloc[:, 1], y_pred_xgb[:, 1])\n",
    "r2_y2_xgb = r2_score(y_test.iloc[:, 1], y_pred_xgb[:, 1])\n",
    "\n",
    "# Print results\n",
    "print(\"XGBoost Regressor Results:\")\n",
    "print(f\"Heating Load (Y1) - MAE: {mae_y1_xgb}, MSE: {mse_y1_xgb}, R2: {r2_y1_xgb}\")\n",
    "print(f\"Cooling Load (Y2) - MAE: {mae_y2_xgb}, MSE: {mse_y2_xgb}, R2: {r2_y2_xgb}\")\n",
    "print(f\"Training Time: {training_time:.2f} seconds\")"
   ]
  },
  {
   "cell_type": "code",
   "execution_count": 5,
   "metadata": {},
   "outputs": [
    {
     "name": "stderr",
     "output_type": "stream",
     "text": [
      "\u001b[31m2025/03/09 12:16:08 WARNING mlflow.models.model: Model logged without a signature and input example. Please set `input_example` parameter when logging the model to auto infer the model signature.\u001b[0m\n",
      "Successfully registered model 'XGBoostModel'.\n",
      "2025/03/09 12:16:08 INFO mlflow.store.model_registry.abstract_store: Waiting up to 300 seconds for model version to finish creation. Model name: XGBoostModel, version 1\n"
     ]
    },
    {
     "name": "stdout",
     "output_type": "stream",
     "text": [
      "🏃 View run smiling-eel-314 at: http://127.0.0.1:5000/#/experiments/1/runs/d571ac5467c44b6288453de745fbf9d4\n",
      "🧪 View experiment at: http://127.0.0.1:5000/#/experiments/1\n"
     ]
    },
    {
     "name": "stderr",
     "output_type": "stream",
     "text": [
      "Created version '1' of model 'XGBoostModel'.\n"
     ]
    }
   ],
   "source": [
    "# Set MLflow Tracking URI \n",
    "mlflow.set_tracking_uri(\"http://127.0.0.1:5000\")  # Localhost MLflow server\n",
    "\n",
    "# Create or set experiment\n",
    "experiment_name = \"Energy_Efficiency_Prediction\"\n",
    "mlflow.set_experiment(experiment_name)\n",
    "\n",
    "# Log experiment in MLflow\n",
    "with mlflow.start_run() as run:\n",
    "    mlflow.log_param(\"n_estimators\", 100)\n",
    "    mlflow.log_metric(\"MAE_Y1\", mae_y1_xgb)\n",
    "    mlflow.log_metric(\"MSE_Y1\", mse_y1_xgb)\n",
    "    mlflow.log_metric(\"R2_Y1\", r2_y1_xgb)\n",
    "    mlflow.log_metric(\"MAE_Y2\", mae_y2_xgb)\n",
    "    mlflow.log_metric(\"MSE_Y2\", mse_y2_xgb)\n",
    "    mlflow.log_metric(\"R2_Y2\", r2_y2_xgb)\n",
    "\n",
    "    # Log training time\n",
    "    mlflow.log_metric(\"training_time_seconds\", training_time)\n",
    "\n",
    "    mlflow.sklearn.log_model(xgb_model, \"xgboost_model\")\n",
    "\n",
    "    # Register the model\n",
    "    model_uri = f\"runs:/{run.info.run_id}/xgboost_model\"\n",
    "    mlflow.register_model(model_uri, \"XGBoostModel\")"
   ]
  }
 ],
 "metadata": {
  "kernelspec": {
   "display_name": ".venv",
   "language": "python",
   "name": "python3"
  },
  "language_info": {
   "codemirror_mode": {
    "name": "ipython",
    "version": 3
   },
   "file_extension": ".py",
   "mimetype": "text/x-python",
   "name": "python",
   "nbconvert_exporter": "python",
   "pygments_lexer": "ipython3",
   "version": "3.12.3"
  }
 },
 "nbformat": 4,
 "nbformat_minor": 2
}
